{
 "cells": [
  {
   "cell_type": "markdown",
   "metadata": {
    "id": "Sbv9IbMeOXUZ",
    "jp-MarkdownHeadingCollapsed": true,
    "tags": []
   },
   "source": [
    "# Regular Expression composer\n",
    "\n",
    "本程式可以在 [Google Colab 上直接執行](https://colab.research.google.com/github/hcchengithub/RegEx-composer/blob/main/RegEx%20composer.ipynb)，不需要任何安裝。\n",
    "\n",
    "Hubble2 搜尋近似 bugs 的結果輸出到一個 text file, 善用 Notepad++ 可從中提煉出精準的結果。 本工具用來輔助產生需要用到的 Notepad++ regular expression。 \n",
    "\n",
    "Notepad++ 能任意給 words 塗顏色。理想中我們希望依顏色組成搜尋條件：相同顏色取 or 邏輯，任一即可；不同顏色取 and 邏輯，要全部到齊。例如： \n",
    "\n",
    "    1. bluetooth, bt 都塗成「藍色」。 \n",
    "    2. Windows 10, win10, windows10, window10 都塗成「綠色」。\n",
    "    3. blue screen, bsod, fatal, exception 都塗成「紅色」。\n",
    "\n",
    "Notepad++ (請 update 到最新版，已知 v7.9.5 之前的版本不太好) 的 find 功能有提供 regular expression 能達到這個效果。以上三個 pattern 可用本程式轉換成 regular expression 供 Notepad++ 使用，以達到精準搜尋的目的。\n",
    "\n",
    "<img src=\"https://github.com/hcchengithub/RegEx-composer/blob/main/Screenshot%202021-10-15%20094215.jpg?raw=1\">\n",
    "\n",
    "Notepad++ 有個 PythonScript plugin. 等將來寫好了就只要塗顏色，然後執行 PythonScript 即可，方便點。\n"
   ]
  },
  {
   "cell_type": "markdown",
   "metadata": {
    "id": "tlujxB3nOXUd"
   },
   "source": [
    "# Usage:\n",
    "\n",
    "直接在下面 source code 裡面修改 patterns 然後 Ctrl+Enter 執行，產生的 RegEx 在下面。請 copy-paste 到 Notepad++ 使用。"
   ]
  },
  {
   "cell_type": "code",
   "execution_count": 17,
   "metadata": {
    "id": "CbbM6SF-OXUe",
    "outputId": "4567761c-e250-496c-fc9c-15e3f146b9eb",
    "tags": []
   },
   "outputs": [
    {
     "name": "stdout",
     "output_type": "stream",
     "text": [
      "Regular Expression:\n",
      "  (?=^.*?\\s(blue.?tooth|bt)\\s)(?=^.*?\\s(windows?.?10|win10)\\s)(?=^.*?\\s(blue.?screen|bsod|fatal|exception)\\s).*\n"
     ]
    }
   ],
   "source": [
    "# patterns from the notepad++ style token colors \n",
    "# (?=.*?\\s(windows?.?10|win.?10)\\s)(?=.*?\\s(blue.?screen|BSOD)\\s).*\n",
    "patterns = []\n",
    "patterns.append(\"blue.?tooth|bt\") # .? 有沒有空格或任何 character 都接受。 '|' 就是 OR. \n",
    "patterns.append(\"windows?.?10|win10\") # s? 有沒有 s 都接受， .? 解釋如上\n",
    "patterns.append(\"blue.?screen|bsod|fatal|exception\")\n",
    "patterns.append(\"\")\n",
    "patterns.append(\"\") # 自行增添\n",
    "\n",
    "# 全部有效 OR patterns\n",
    "patterns = [p.strip() for p in patterns if p.strip()] # remove empty items\n",
    "for i in range(len(patterns)):\n",
    "    s = patterns[i]\n",
    "    patterns[i] = r\"(?=^.*?\\s(%s)\\s)\" % s # https://community.notepad-plus-plus.org/topic/22031/first-f3-ok-f3-again-selects-the-entire-doc\n",
    "\n",
    "# 各種 OR patterns 全部要到齊，都 AND 起來。\n",
    "regex = \"\"\n",
    "for i in patterns: \n",
    "    regex += i\n",
    "\n",
    "# 輸出結果\n",
    "# print('len(regex) =',len(regex), '<--- 不要超過 2046 即可\\n')\n",
    "assert len(regex) <= 2046, \"Notepad++ regular expression length <= 2046 limitation!\"\n",
    "print(\"Regular Expression:\")\n",
    "print(\"  %s.*\" % regex)"
   ]
  },
  {
   "cell_type": "markdown",
   "metadata": {
    "id": "RL0f_74YOXUf"
   },
   "source": [
    "# The End\n",
    "\n",
    "陳厚成 H.C. Chen<br>\n",
    "緯創資通 Wistron Corporation<br>\n",
    "新北市22181汐止區新台五路一段88號21樓<br>\n",
    "21F., No.88, Sec.1, Xintai 5th Rd., Xizhi Dist.,<br>\n",
    "New Taipei City 22181, Taiwan<br>\n",
    "eMail: h.c._chen@wistron.com<br>\n",
    "Phone: +886-2-6612-27887, Cell: +886-922-417-555<br>\n",
    "Line: hcchen5600, WeChat: hcchen5600\n",
    "\n"
   ]
  },
  {
   "cell_type": "code",
   "execution_count": null,
   "metadata": {},
   "outputs": [],
   "source": []
  },
  {
   "cell_type": "code",
   "execution_count": null,
   "metadata": {},
   "outputs": [],
   "source": []
  },
  {
   "cell_type": "code",
   "execution_count": null,
   "metadata": {},
   "outputs": [],
   "source": []
  },
  {
   "cell_type": "code",
   "execution_count": null,
   "metadata": {},
   "outputs": [],
   "source": []
  },
  {
   "cell_type": "code",
   "execution_count": null,
   "metadata": {},
   "outputs": [],
   "source": []
  },
  {
   "cell_type": "code",
   "execution_count": null,
   "metadata": {},
   "outputs": [],
   "source": []
  },
  {
   "cell_type": "code",
   "execution_count": null,
   "metadata": {},
   "outputs": [],
   "source": []
  },
  {
   "cell_type": "code",
   "execution_count": null,
   "metadata": {},
   "outputs": [],
   "source": []
  },
  {
   "cell_type": "markdown",
   "metadata": {
    "id": "CbbM6SF-OXUe",
    "outputId": "4567761c-e250-496c-fc9c-15e3f146b9eb",
    "tags": []
   },
   "source": [
    "# 筆記\n",
    "得到 [Alan Kilborn](https://community.notepad-plus-plus.org/topic/21973/regular-expression-size-limited-2048-chars-how-to-make-it-longer/9?_=1634781956921) 的協助之前的舊版\n",
    "```\n",
    "# patterns from the notepad++ style token colors \n",
    "\n",
    "patterns = []\n",
    "patterns.append(\"blue.?tooth|bt\") # .? 有沒有空格都接受\n",
    "patterns.append(\"windows?.?10|win10\") # s? 有沒有 s 都接受\n",
    "patterns.append(\"blue.?screen|bsod|fatal|exception\")\n",
    "patterns.append(\"\")\n",
    "patterns.append(\"\") # 自行增添\n",
    "\n",
    "from itertools import permutations  # permutations 數學「排列組合」中的「排列」\n",
    "\n",
    "# 所有 patterns 的排列\n",
    "patterns = [p.strip() for p in patterns if p.strip()] # remove empty items\n",
    "for i in range(len(patterns)):\n",
    "    s = patterns[i]\n",
    "    patterns[i] = '(' + s + ')' if s.find('|') != -1 else s # 給有 | 的用括號括起來\n",
    "permus = [p for p in permutations(patterns)] \n",
    "\n",
    "# RegEx 模板隨 input patterns 個數而定，自動伸縮。\n",
    "template = \"\\s\"\n",
    "for i in range(len(patterns)): \n",
    "    # 萬一 RegEx 太長超過 Notepad++ 的限制 2048 characters 則這裡犧牲一點還可以縮短\n",
    "    # template += r\"%s.*\\s\" # 注意，尾巴要剪掉的長度要連動 -4 ----------.\n",
    "    template += r\"%s(\\s|\\s.*\\s)\" # 尾巴長度 -11                       |\n",
    "template = template[:-11]+\"\\\\s\" # <----------------------------------'\n",
    "\n",
    "# 各種排列組合的聯集\n",
    "regex = \"\"\n",
    "for i in range(len(permus)): \n",
    "    regex += \"(%s)\" % template % tuple([p for p in permus[i]]) + '|'\n",
    "regex = regex[:-1]\n",
    "\n",
    "# 輸出結果\n",
    "print('len(regex) =',len(regex), '<---控制不要超過 2048 即可\\n')\n",
    "assert len(regex) <= 2048, \"Notepad++ regular expression length limitation! 2048 不太夠，很容易超過！\"\n",
    "print(regex)\n",
    "```"
   ]
  }
 ],
 "metadata": {
  "colab": {
   "name": "RegEx composer.ipynb",
   "provenance": []
  },
  "kernelspec": {
   "display_name": "Python 3 (ipykernel)",
   "language": "python",
   "name": "python3"
  },
  "language_info": {
   "codemirror_mode": {
    "name": "ipython",
    "version": 3
   },
   "file_extension": ".py",
   "mimetype": "text/x-python",
   "name": "python",
   "nbconvert_exporter": "python",
   "pygments_lexer": "ipython3",
   "version": "3.8.12"
  }
 },
 "nbformat": 4,
 "nbformat_minor": 4
}
